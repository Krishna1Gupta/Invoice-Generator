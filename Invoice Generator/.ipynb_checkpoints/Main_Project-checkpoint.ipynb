{
 "cells": [
  {
   "cell_type": "code",
   "execution_count": 1,
   "id": "8fc53ce9",
   "metadata": {},
   "outputs": [
    {
     "name": "stdout",
     "output_type": "stream",
     "text": [
      "Requirement already satisfied: reportlab in c:\\users\\hp\\anaconda3\\lib\\site-packages (3.6.12)\n",
      "Requirement already satisfied: pillow>=9.0.0 in c:\\users\\hp\\anaconda3\\lib\\site-packages (from reportlab) (9.4.0)\n"
     ]
    },
    {
     "name": "stderr",
     "output_type": "stream",
     "text": [
      "WARNING: Ignoring invalid distribution -tatsmodels (c:\\users\\hp\\anaconda3\\lib\\site-packages)\n",
      "WARNING: Ignoring invalid distribution -tatsmodels (c:\\users\\hp\\anaconda3\\lib\\site-packages)\n",
      "WARNING: Ignoring invalid distribution -tatsmodels (c:\\users\\hp\\anaconda3\\lib\\site-packages)\n",
      "WARNING: Ignoring invalid distribution -tatsmodels (c:\\users\\hp\\anaconda3\\lib\\site-packages)\n",
      "WARNING: Ignoring invalid distribution -tatsmodels (c:\\users\\hp\\anaconda3\\lib\\site-packages)\n",
      "WARNING: Ignoring invalid distribution -tatsmodels (c:\\users\\hp\\anaconda3\\lib\\site-packages)\n"
     ]
    }
   ],
   "source": [
    "!pip install reportlab\n"
   ]
  },
  {
   "cell_type": "code",
   "execution_count": 77,
   "id": "f270a167",
   "metadata": {},
   "outputs": [
    {
     "name": "stdout",
     "output_type": "stream",
     "text": [
      "date and time = 31/03/2023 11:09:05\n",
      "Enter the title of invoiceGrocery\n",
      "Enter the number of items :1\n",
      "Enter item name :Itrm\n",
      "Enter the quantity of item:1\n",
      "Enter unit price of the item1\n"
     ]
    }
   ],
   "source": [
    "def my_temp(c):\n",
    "    \n",
    "    c.setFont(\"Times-Roman\",22)\n",
    "    c.setFillColorRGB(0,0,0)\n",
    "    c.drawString(0.5*inch,6.3*inch,\"Products\")\n",
    "    c.drawString(3.5*inch,6.3*inch,\"Qty\")\n",
    "    c.drawString(4.5*inch,6.3*inch,\"Price\")\n",
    "    c.drawString(5.5*inch,6.3*inch,\"Discount\")\n",
    "    c.drawString(6.5*inch,6.3*inch,\"Amount\")\n",
    "    \n",
    "    \n",
    "    #vertical line color\n",
    "    c.line(3.9*inch,8.3*inch,3.9*inch,2.7*inch)\n",
    "    c.line(4.9*inch,8.3*inch,4.9*inch,2.7*inch)\n",
    "    c.line(5.9*inch,8.3*inch,5.9*inch,2.7*inch)\n",
    "    c.line(6.9*inch,8.3*inch,6.9*inch,2.7*inch)\n",
    "    \n",
    "    return c\n",
    "\n",
    "\n",
    "from reportlab.pdfgen import canvas\n",
    "from reportlab.lib.units import inch\n",
    "from reportlab.lib.pagesizes import A4,letter\n",
    "from reportlab.platypus import Paragraph\n",
    "from reportlab.lib.styles import ParagraphStyle\n",
    "\n",
    "\n",
    "\n",
    "my_path = 'C:\\\\Users\\\\Hp\\\\Invoice Generator\\\\Invoice.pdf'   #file Path\n",
    "c = canvas.Canvas(my_path,pagesize= letter)\n",
    "\n",
    "#Setting some margin\n",
    "c.translate(inch,inch)\n",
    "\n",
    "#drawing one line\n",
    "c.setStrokeColor(\"Red\")\n",
    "c.setLineWidth(5)\n",
    "c.line(0,8*inch,7*inch,8*inch)  #line(x1,y1,x2,y2) , x1 and y1 are the starting coordinates and x2,y2 ending\n",
    "\n",
    "#Increasing th font size and changing the font of the text(Data String)\n",
    "c.setFillColor(\"Blue\")\n",
    "c.setFont(\"Helvetica\",20)\n",
    "\n",
    "# Writing in the pdf\n",
    "#c.drawString(200,200,\"Hello World\")\n",
    "\n",
    "#Adding an image\n",
    "c.drawImage('C:\\\\Users\\\\Hp\\\\Invoice Generator\\\\logo2.jpg',-0.8 * inch,8.1*inch)\n",
    "\n",
    "#Writing invoice geneartion\n",
    "c.setFillColor(\"Black\")\n",
    "c.setFont(\"Helvetica\",25)\n",
    "c.drawString(3*inch,8.4*inch,\"Invoice\")\n",
    "\n",
    "#Drawing a rectangle\n",
    "#c.setLineWidth(3)\n",
    "#c.setStrokeColor('black')\n",
    "#c.setFillColor('white')\n",
    "#c.rect(1*inch,2*inch,3.5*inch,5*inch,fill =1)   #c.rect(x1,y1,x2,y2) , x1,y1 are the coordinates of the \n",
    "#c.rect(0,0,6.5*inch,7*inch,fill =1)\n",
    "#left bottom corner of rectangle and x2,y2 are the coordinates of right upper corner of rectangle\n",
    "\n",
    "\n",
    "#Adding the address and time\n",
    "from datetime import datetime\n",
    "# datetime object containing current date and time\n",
    "now = datetime.now()\n",
    "# dd/mm/YY H:M:S\n",
    "dt_string = now.strftime(\"%d/%m/%Y %H:%M:%S\")\n",
    "print(\"date and time =\", dt_string)\n",
    "\n",
    "my_style = ParagraphStyle(\"My Para Style\",fontSize = 12)\n",
    "width,height = A4\n",
    "p1 = Paragraph('''<b>Service options </b>: In-store shopping · In-store pick-up · Delivery <BR/>\n",
    "<b> Address: </b> M75M+3P9, Vijay Chowk, Block F, Krishna Nagar, Delhi, 110051 <BR/>\n",
    "<b> Contact: </b> 98320XXXXX\n",
    "<BR/>\n",
    "<b> Invoice Date and time: {time}</b> '''.format(time = dt_string),my_style)\n",
    "p1.wrapOn(c,200,50) #size of the paragraph\n",
    "p1.drawOn(c,width-270,height-250) #where the paragraph will be placed\n",
    "\n",
    "\n",
    "c = my_temp(c)\n",
    "\n",
    "\n",
    "\n",
    "# Data Collection\n",
    "#title\n",
    "title = input(\"Enter the title of invoice\") #fileName\n",
    "#Data for the Pdf\n",
    "#Table = Data includes header,item info,footer\n",
    "\n",
    "DATA = []\n",
    "HEAD = ['item name','Quantity','Unit Price','Total Price']\n",
    "\n",
    "DATA.append(HEAD)\n",
    "\n",
    "#Item info\n",
    "n_items = int(input(\"Enter the number of items :\"))\n",
    "for i in range(n_items): #this loop gonna run for n_items no of items\n",
    "        name = input(\"Enter item name :\")\n",
    "        quant = int(input(\"Enter the quantity of item:\"))\n",
    "        unitP = float(input('Enter unit price of the item'))\n",
    "        totalP = quant*unitP\n",
    "        DATA.append([name,quant,unitP,totalP])\n",
    "        \n",
    "#print(DATA)\n",
    "\n",
    "#Footer\n",
    "FOOT = ['','','Total amount = ',0]\n",
    "#list slicing\n",
    "for i in DATA[1:]:\n",
    "    FOOT[3] = FOOT[3] + i[3]\n",
    "    #print(i[3])\n",
    "     \n",
    "DATA.append(FOOT)\n",
    "#print(DATA)\n",
    "\n",
    "# Step3 - Generating the pdf - reportlab : reportlab\n",
    "from reportlab.platypus import SimpleDocTemplate,Table,Paragraph\n",
    "\n",
    "#Cretae empty pdf\n",
    "PDF = SimpleDocTemplate(\"Invoice.pdf\")\n",
    "#Add elemets to this pdf\n",
    "PDF_title = Paragraph(title)\n",
    "PDF_table = Table(DATA)\n",
    "\n",
    "#Build the final PDF\n",
    "PDF.build([PDF_title,PDF_table])\n",
    "\n",
    "\n",
    "\n",
    "\n",
    "c.showPage() #\n",
    "c.save() #Save the pdf\n"
   ]
  },
  {
   "cell_type": "markdown",
   "id": "f048c80c",
   "metadata": {},
   "source": [
    "# DATA"
   ]
  },
  {
   "cell_type": "code",
   "execution_count": 66,
   "id": "d64f32ac",
   "metadata": {},
   "outputs": [
    {
     "name": "stdout",
     "output_type": "stream",
     "text": [
      "date and time = 31/03/2023 08:29:07\n",
      "<class 'str'>\n"
     ]
    }
   ],
   "source": [
    "from datetime import datetime\n",
    "\n",
    "# datetime object containing current date and time\n",
    "now = datetime.now()\n",
    "# dd/mm/YY H:M:S\n",
    "dt_string = now.strftime(\"%d/%m/%Y %H:%M:%S\")\n",
    "print(\"date and time =\", dt_string)\n",
    "print(type(dt_string))"
   ]
  },
  {
   "cell_type": "code",
   "execution_count": 65,
   "id": "d852dff8",
   "metadata": {},
   "outputs": [
    {
     "data": {
      "text/plain": [
       "'line 10,\\nline 20,\\nline 30'"
      ]
     },
     "execution_count": 65,
     "metadata": {},
     "output_type": "execute_result"
    }
   ],
   "source": [
    "'''line {0},\n",
    "line {1},\n",
    "line {2}'''.format(10,20,30)"
   ]
  },
  {
   "cell_type": "code",
   "execution_count": null,
   "id": "2abcac63",
   "metadata": {},
   "outputs": [],
   "source": []
  },
  {
   "cell_type": "code",
   "execution_count": null,
   "id": "10c9ad10",
   "metadata": {},
   "outputs": [],
   "source": []
  },
  {
   "cell_type": "code",
   "execution_count": null,
   "id": "f8dfaa0a",
   "metadata": {},
   "outputs": [],
   "source": []
  },
  {
   "cell_type": "code",
   "execution_count": 73,
   "id": "fbf30a09",
   "metadata": {},
   "outputs": [
    {
     "name": "stdout",
     "output_type": "stream",
     "text": [
      "Enter the title of invoiceGrocery\n",
      "Enter the number of items :1\n",
      "Enter item name :Item1\n",
      "Enter the quantity of item:1\n",
      "Enter unit price of the item1\n"
     ]
    }
   ],
   "source": [
    "# Data Collection\n",
    "#title\n",
    "title = input(\"Enter the title of invoice\") #fileName\n",
    "#Data for the Pdf\n",
    "#Table = Data includes header,item info,footer\n",
    "\n",
    "DATA = []\n",
    "HEAD = ['item name','Quantity','Unit Price','Total Price']\n",
    "\n",
    "DATA.append(HEAD)\n",
    "\n",
    "#Item info\n",
    "n_items = int(input(\"Enter the number of items :\"))\n",
    "for i in range(n_items): #this loop gonna run for n_items no of items\n",
    "        name = input(\"Enter item name :\")\n",
    "        quant = int(input(\"Enter the quantity of item:\"))\n",
    "        unitP = float(input('Enter unit price of the item'))\n",
    "        totalP = quant*unitP\n",
    "        DATA.append([name,quant,unitP,totalP])\n",
    "        \n",
    "#print(DATA)\n",
    "\n",
    "#Footer\n",
    "FOOT = ['','','Total amount = ',0]\n",
    "#list slicing\n",
    "for i in DATA[1:]:\n",
    "    FOOT[3] = FOOT[3] + i[3]\n",
    "    #print(i[3])\n",
    "     \n",
    "DATA.append(FOOT)\n",
    "#print(DATA)\n",
    "\n",
    "# Step3 - Generating the pdf - reportlab : reportlab\n",
    "from reportlab.platypus import SimpleDocTemplate,Table,Paragraph\n",
    "\n",
    "#Cretae empty pdf\n",
    "PDF = SimpleDocTemplate(title + \".pdf\")\n",
    "#Add elemets to this pdf\n",
    "PDF_title = Paragraph(title)\n",
    "PDF_table = Table(DATA)\n",
    "\n",
    "#Build the final PDF\n",
    "PDF.build([PDF_title,PDF_table])\n",
    "print\n"
   ]
  },
  {
   "cell_type": "code",
   "execution_count": 74,
   "id": "0af27576",
   "metadata": {},
   "outputs": [
    {
     "name": "stdout",
     "output_type": "stream",
     "text": [
      "<class 'reportlab.platypus.doctemplate.SimpleDocTemplate'>\n"
     ]
    }
   ],
   "source": [
    "print(type(PDF))"
   ]
  },
  {
   "cell_type": "code",
   "execution_count": null,
   "id": "66ab373d",
   "metadata": {},
   "outputs": [],
   "source": []
  }
 ],
 "metadata": {
  "kernelspec": {
   "display_name": "Python 3 (ipykernel)",
   "language": "python",
   "name": "python3"
  },
  "language_info": {
   "codemirror_mode": {
    "name": "ipython",
    "version": 3
   },
   "file_extension": ".py",
   "mimetype": "text/x-python",
   "name": "python",
   "nbconvert_exporter": "python",
   "pygments_lexer": "ipython3",
   "version": "3.9.7"
  }
 },
 "nbformat": 4,
 "nbformat_minor": 5
}
