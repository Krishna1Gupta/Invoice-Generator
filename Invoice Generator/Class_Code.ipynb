{
 "cells": [
  {
   "cell_type": "code",
   "execution_count": 6,
   "id": "427ba60c",
   "metadata": {},
   "outputs": [
    {
     "name": "stdout",
     "output_type": "stream",
     "text": [
      "Enter the title of invoiceGrocery\n",
      "Enter the number of items :2\n",
      "Enter item name :qweq\n",
      "Enter the quantity of item:12\n",
      "Enter unit price of the item10\n",
      "Enter item name :dew\n",
      "Enter the quantity of item:10\n",
      "Enter unit price of the item10\n"
     ]
    }
   ],
   "source": [
    "# Data Collection\n",
    "#title\n",
    "title = input(\"Enter the title of invoice\") #fileName\n",
    "#Data for the Pdf\n",
    "#Table = Data includes header,item info,footer\n",
    "\n",
    "DATA = []\n",
    "HEAD = ['item name','Quantity','Unit Price','Total Price']\n",
    "\n",
    "DATA.append(HEAD)\n",
    "\n",
    "#Item info\n",
    "n_items = int(input(\"Enter the number of items :\"))\n",
    "for i in range(n_items): #this loop gonna run for n_items no of items\n",
    "        name = input(\"Enter item name :\")\n",
    "        quant = int(input(\"Enter the quantity of item:\"))\n",
    "        unitP = float(input('Enter unit price of the item'))\n",
    "        totalP = quant*unitP\n",
    "        DATA.append([name,quant,unitP,totalP])\n",
    "        \n",
    "#print(DATA)\n",
    "\n",
    "#Footer\n",
    "FOOT = ['','','Total amount = ',0]\n",
    "#list slicing\n",
    "for i in DATA[1:]:\n",
    "    FOOT[3] = FOOT[3] + i[3]\n",
    "    #print(i[3])\n",
    "     \n",
    "DATA.append(FOOT)\n",
    "#print(DATA)\n",
    "\n",
    "# Step3 - Generating the pdf - reportlab : reportlab\n",
    "from reportlab.platypus import SimpleDocTemplate,Table,Paragraph\n",
    "\n",
    "#Cretae empty pdf\n",
    "PDF = SimpleDocTemplate(title + \".pdf\")\n",
    "#Add elemets to this pdf\n",
    "PDF_title = Paragraph(title)\n",
    "PDF_table = Table(DATA)\n",
    "\n",
    "#Build the final PDF\n",
    "PDF.build([PDF_title,PDF_table])\n",
    "\n"
   ]
  },
  {
   "cell_type": "code",
   "execution_count": null,
   "id": "d20d5716",
   "metadata": {},
   "outputs": [],
   "source": [
    "Ma'am if time allows, can you please also tell how can we write Research Papers (since you have two publications)"
   ]
  },
  {
   "cell_type": "code",
   "execution_count": null,
   "id": "50e3ac42",
   "metadata": {},
   "outputs": [],
   "source": [
    "DATA\n"
   ]
  },
  {
   "cell_type": "code",
   "execution_count": 1,
   "id": "34dce3a0",
   "metadata": {},
   "outputs": [
    {
     "name": "stdout",
     "output_type": "stream",
     "text": [
      "Collecting reportlab\n",
      "  Downloading reportlab-3.6.12-cp39-cp39-win_amd64.whl (2.3 MB)\n",
      "Collecting pillow>=9.0.0\n",
      "  Downloading Pillow-9.4.0-cp39-cp39-win_amd64.whl (2.5 MB)\n",
      "Installing collected packages: pillow, reportlab\n",
      "  Attempting uninstall: pillow\n",
      "    Found existing installation: Pillow 8.4.0\n",
      "    Uninstalling Pillow-8.4.0:\n",
      "      Successfully uninstalled Pillow-8.4.0\n",
      "Successfully installed pillow-9.4.0 reportlab-3.6.12\n",
      "Note: you may need to restart the kernel to use updated packages.\n"
     ]
    },
    {
     "name": "stderr",
     "output_type": "stream",
     "text": [
      "WARNING: Ignoring invalid distribution -tatsmodels (c:\\users\\hp\\anaconda3\\lib\\site-packages)\n",
      "WARNING: Ignoring invalid distribution -tatsmodels (c:\\users\\hp\\anaconda3\\lib\\site-packages)\n",
      "WARNING: Ignoring invalid distribution -tatsmodels (c:\\users\\hp\\anaconda3\\lib\\site-packages)\n",
      "    WARNING: Ignoring invalid distribution -tatsmodels (c:\\users\\hp\\anaconda3\\lib\\site-packages)\n",
      "WARNING: Ignoring invalid distribution -tatsmodels (c:\\users\\hp\\anaconda3\\lib\\site-packages)\n",
      "WARNING: Ignoring invalid distribution -tatsmodels (c:\\users\\hp\\anaconda3\\lib\\site-packages)\n",
      "WARNING: Ignoring invalid distribution -tatsmodels (c:\\users\\hp\\anaconda3\\lib\\site-packages)\n",
      "WARNING: Ignoring invalid distribution -tatsmodels (c:\\users\\hp\\anaconda3\\lib\\site-packages)\n",
      "WARNING: Ignoring invalid distribution -tatsmodels (c:\\users\\hp\\anaconda3\\lib\\site-packages)\n"
     ]
    }
   ],
   "source": [
    "pip install reportlab"
   ]
  },
  {
   "cell_type": "code",
   "execution_count": null,
   "id": "463651cd",
   "metadata": {},
   "outputs": [],
   "source": [
    "https://docs.google.com/forms/d/e/1FAIpQLSemJ9YKGgSsL7zt1BgVKEftOdpTeen1gXT41mkImenzAj2YAQ/viewform"
   ]
  }
 ],
 "metadata": {
  "kernelspec": {
   "display_name": "Python 3 (ipykernel)",
   "language": "python",
   "name": "python3"
  },
  "language_info": {
   "codemirror_mode": {
    "name": "ipython",
    "version": 3
   },
   "file_extension": ".py",
   "mimetype": "text/x-python",
   "name": "python",
   "nbconvert_exporter": "python",
   "pygments_lexer": "ipython3",
   "version": "3.9.7"
  }
 },
 "nbformat": 4,
 "nbformat_minor": 5
}
